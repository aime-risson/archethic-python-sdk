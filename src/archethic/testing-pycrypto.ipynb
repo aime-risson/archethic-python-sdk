{
 "cells": [
  {
   "cell_type": "code",
   "execution_count": 45,
   "metadata": {
    "collapsed": true
   },
   "outputs": [],
   "source": [
    "from Crypto.Cipher import AES\n",
    "\n",
    "from Crypto.Signature import eddsa"
   ]
  },
  {
   "cell_type": "code",
   "execution_count": 3,
   "outputs": [],
   "source": [
    "import archethic"
   ],
   "metadata": {
    "collapsed": false,
    "pycharm": {
     "name": "#%%\n"
    }
   }
  },
  {
   "cell_type": "code",
   "execution_count": 46,
   "outputs": [],
   "source": [
    "pv, pb = archethic.derive_keypair(\"toto\", 0)"
   ],
   "metadata": {
    "collapsed": false,
    "pycharm": {
     "name": "#%%\n"
    }
   }
  },
  {
   "cell_type": "code",
   "execution_count": 47,
   "outputs": [],
   "source": [
    "pv_key = eddsa.import_private_key(archethic.derive_private_key(\"toto\",0))"
   ],
   "metadata": {
    "collapsed": false,
    "pycharm": {
     "name": "#%%\n"
    }
   }
  },
  {
   "cell_type": "code",
   "execution_count": 48,
   "outputs": [
    {
     "ename": "ValueError",
     "evalue": "Incorrect AES key length (68 bytes)",
     "output_type": "error",
     "traceback": [
      "\u001B[0;31m---------------------------------------------------------------------------\u001B[0m",
      "\u001B[0;31mValueError\u001B[0m                                Traceback (most recent call last)",
      "Input \u001B[0;32mIn [48]\u001B[0m, in \u001B[0;36m<cell line: 1>\u001B[0;34m()\u001B[0m\n\u001B[0;32m----> 1\u001B[0m cipher \u001B[38;5;241m=\u001B[39m \u001B[43mAES\u001B[49m\u001B[38;5;241;43m.\u001B[39;49m\u001B[43mnew\u001B[49m\u001B[43m(\u001B[49m\u001B[43mpb\u001B[49m\u001B[43m,\u001B[49m\u001B[43m \u001B[49m\u001B[43mAES\u001B[49m\u001B[38;5;241;43m.\u001B[39;49m\u001B[43mMODE_GCM\u001B[49m\u001B[43m)\u001B[49m\n",
      "File \u001B[0;32m~/Documents/Projets/ArchEthic/archethic-python-sdk/venv/lib/python3.9/site-packages/Crypto/Cipher/AES.py:232\u001B[0m, in \u001B[0;36mnew\u001B[0;34m(key, mode, *args, **kwargs)\u001B[0m\n\u001B[1;32m    131\u001B[0m \u001B[38;5;124;03m\"\"\"Create a new AES cipher.\u001B[39;00m\n\u001B[1;32m    132\u001B[0m \n\u001B[1;32m    133\u001B[0m \u001B[38;5;124;03m:param key:\u001B[39;00m\n\u001B[0;32m   (...)\u001B[0m\n\u001B[1;32m    228\u001B[0m \u001B[38;5;124;03m:Return: an AES object, of the applicable mode.\u001B[39;00m\n\u001B[1;32m    229\u001B[0m \u001B[38;5;124;03m\"\"\"\u001B[39;00m\n\u001B[1;32m    231\u001B[0m kwargs[\u001B[38;5;124m\"\u001B[39m\u001B[38;5;124madd_aes_modes\u001B[39m\u001B[38;5;124m\"\u001B[39m] \u001B[38;5;241m=\u001B[39m \u001B[38;5;28;01mTrue\u001B[39;00m\n\u001B[0;32m--> 232\u001B[0m \u001B[38;5;28;01mreturn\u001B[39;00m \u001B[43m_create_cipher\u001B[49m\u001B[43m(\u001B[49m\u001B[43msys\u001B[49m\u001B[38;5;241;43m.\u001B[39;49m\u001B[43mmodules\u001B[49m\u001B[43m[\u001B[49m\u001B[38;5;18;43m__name__\u001B[39;49m\u001B[43m]\u001B[49m\u001B[43m,\u001B[49m\u001B[43m \u001B[49m\u001B[43mkey\u001B[49m\u001B[43m,\u001B[49m\u001B[43m \u001B[49m\u001B[43mmode\u001B[49m\u001B[43m,\u001B[49m\u001B[43m \u001B[49m\u001B[38;5;241;43m*\u001B[39;49m\u001B[43margs\u001B[49m\u001B[43m,\u001B[49m\u001B[43m \u001B[49m\u001B[38;5;241;43m*\u001B[39;49m\u001B[38;5;241;43m*\u001B[39;49m\u001B[43mkwargs\u001B[49m\u001B[43m)\u001B[49m\n",
      "File \u001B[0;32m~/Documents/Projets/ArchEthic/archethic-python-sdk/venv/lib/python3.9/site-packages/Crypto/Cipher/__init__.py:79\u001B[0m, in \u001B[0;36m_create_cipher\u001B[0;34m(factory, key, mode, *args, **kwargs)\u001B[0m\n\u001B[1;32m     76\u001B[0m     \u001B[38;5;28;01melif\u001B[39;00m mode \u001B[38;5;241m==\u001B[39m \u001B[38;5;241m1\u001B[39m:\n\u001B[1;32m     77\u001B[0m         \u001B[38;5;28;01mraise\u001B[39;00m \u001B[38;5;167;01mTypeError\u001B[39;00m(\u001B[38;5;124m\"\u001B[39m\u001B[38;5;124mIV is not meaningful for the ECB mode\u001B[39m\u001B[38;5;124m\"\u001B[39m)\n\u001B[0;32m---> 79\u001B[0m \u001B[38;5;28;01mreturn\u001B[39;00m \u001B[43mmodes\u001B[49m\u001B[43m[\u001B[49m\u001B[43mmode\u001B[49m\u001B[43m]\u001B[49m\u001B[43m(\u001B[49m\u001B[43mfactory\u001B[49m\u001B[43m,\u001B[49m\u001B[43m \u001B[49m\u001B[38;5;241;43m*\u001B[39;49m\u001B[38;5;241;43m*\u001B[39;49m\u001B[43mkwargs\u001B[49m\u001B[43m)\u001B[49m\n",
      "File \u001B[0;32m~/Documents/Projets/ArchEthic/archethic-python-sdk/venv/lib/python3.9/site-packages/Crypto/Cipher/_mode_gcm.py:620\u001B[0m, in \u001B[0;36m_create_gcm_cipher\u001B[0;34m(factory, **kwargs)\u001B[0m\n\u001B[1;32m    617\u001B[0m \u001B[38;5;28;01melse\u001B[39;00m:\n\u001B[1;32m    618\u001B[0m     ghash_c \u001B[38;5;241m=\u001B[39m _ghash_portable\n\u001B[0;32m--> 620\u001B[0m \u001B[38;5;28;01mreturn\u001B[39;00m \u001B[43mGcmMode\u001B[49m\u001B[43m(\u001B[49m\u001B[43mfactory\u001B[49m\u001B[43m,\u001B[49m\u001B[43m \u001B[49m\u001B[43mkey\u001B[49m\u001B[43m,\u001B[49m\u001B[43m \u001B[49m\u001B[43mnonce\u001B[49m\u001B[43m,\u001B[49m\u001B[43m \u001B[49m\u001B[43mmac_len\u001B[49m\u001B[43m,\u001B[49m\u001B[43m \u001B[49m\u001B[43mkwargs\u001B[49m\u001B[43m,\u001B[49m\u001B[43m \u001B[49m\u001B[43mghash_c\u001B[49m\u001B[43m)\u001B[49m\n",
      "File \u001B[0;32m~/Documents/Projets/ArchEthic/archethic-python-sdk/venv/lib/python3.9/site-packages/Crypto/Cipher/_mode_gcm.py:223\u001B[0m, in \u001B[0;36mGcmMode.__init__\u001B[0;34m(self, factory, key, nonce, mac_len, cipher_params, ghash_c)\u001B[0m\n\u001B[1;32m    219\u001B[0m \u001B[38;5;28mself\u001B[39m\u001B[38;5;241m.\u001B[39m_msg_len \u001B[38;5;241m=\u001B[39m \u001B[38;5;241m0\u001B[39m\n\u001B[1;32m    221\u001B[0m \u001B[38;5;66;03m# Step 1 in SP800-38D, Algorithm 4 (encryption) - Compute H\u001B[39;00m\n\u001B[1;32m    222\u001B[0m \u001B[38;5;66;03m# See also Algorithm 5 (decryption)\u001B[39;00m\n\u001B[0;32m--> 223\u001B[0m hash_subkey \u001B[38;5;241m=\u001B[39m \u001B[43mfactory\u001B[49m\u001B[38;5;241;43m.\u001B[39;49m\u001B[43mnew\u001B[49m\u001B[43m(\u001B[49m\u001B[43mkey\u001B[49m\u001B[43m,\u001B[49m\n\u001B[1;32m    224\u001B[0m \u001B[43m                          \u001B[49m\u001B[38;5;28;43mself\u001B[39;49m\u001B[38;5;241;43m.\u001B[39;49m\u001B[43m_factory\u001B[49m\u001B[38;5;241;43m.\u001B[39;49m\u001B[43mMODE_ECB\u001B[49m\u001B[43m,\u001B[49m\n\u001B[1;32m    225\u001B[0m \u001B[43m                          \u001B[49m\u001B[38;5;241;43m*\u001B[39;49m\u001B[38;5;241;43m*\u001B[39;49m\u001B[43mcipher_params\u001B[49m\n\u001B[1;32m    226\u001B[0m \u001B[43m                          \u001B[49m\u001B[43m)\u001B[49m\u001B[38;5;241m.\u001B[39mencrypt(\u001B[38;5;124mb\u001B[39m\u001B[38;5;124m'\u001B[39m\u001B[38;5;130;01m\\x00\u001B[39;00m\u001B[38;5;124m'\u001B[39m \u001B[38;5;241m*\u001B[39m \u001B[38;5;241m16\u001B[39m)\n\u001B[1;32m    228\u001B[0m \u001B[38;5;66;03m# Step 2 - Compute J0\u001B[39;00m\n\u001B[1;32m    229\u001B[0m \u001B[38;5;28;01mif\u001B[39;00m \u001B[38;5;28mlen\u001B[39m(\u001B[38;5;28mself\u001B[39m\u001B[38;5;241m.\u001B[39mnonce) \u001B[38;5;241m==\u001B[39m \u001B[38;5;241m12\u001B[39m:\n",
      "File \u001B[0;32m~/Documents/Projets/ArchEthic/archethic-python-sdk/venv/lib/python3.9/site-packages/Crypto/Cipher/AES.py:232\u001B[0m, in \u001B[0;36mnew\u001B[0;34m(key, mode, *args, **kwargs)\u001B[0m\n\u001B[1;32m    131\u001B[0m \u001B[38;5;124;03m\"\"\"Create a new AES cipher.\u001B[39;00m\n\u001B[1;32m    132\u001B[0m \n\u001B[1;32m    133\u001B[0m \u001B[38;5;124;03m:param key:\u001B[39;00m\n\u001B[0;32m   (...)\u001B[0m\n\u001B[1;32m    228\u001B[0m \u001B[38;5;124;03m:Return: an AES object, of the applicable mode.\u001B[39;00m\n\u001B[1;32m    229\u001B[0m \u001B[38;5;124;03m\"\"\"\u001B[39;00m\n\u001B[1;32m    231\u001B[0m kwargs[\u001B[38;5;124m\"\u001B[39m\u001B[38;5;124madd_aes_modes\u001B[39m\u001B[38;5;124m\"\u001B[39m] \u001B[38;5;241m=\u001B[39m \u001B[38;5;28;01mTrue\u001B[39;00m\n\u001B[0;32m--> 232\u001B[0m \u001B[38;5;28;01mreturn\u001B[39;00m \u001B[43m_create_cipher\u001B[49m\u001B[43m(\u001B[49m\u001B[43msys\u001B[49m\u001B[38;5;241;43m.\u001B[39;49m\u001B[43mmodules\u001B[49m\u001B[43m[\u001B[49m\u001B[38;5;18;43m__name__\u001B[39;49m\u001B[43m]\u001B[49m\u001B[43m,\u001B[49m\u001B[43m \u001B[49m\u001B[43mkey\u001B[49m\u001B[43m,\u001B[49m\u001B[43m \u001B[49m\u001B[43mmode\u001B[49m\u001B[43m,\u001B[49m\u001B[43m \u001B[49m\u001B[38;5;241;43m*\u001B[39;49m\u001B[43margs\u001B[49m\u001B[43m,\u001B[49m\u001B[43m \u001B[49m\u001B[38;5;241;43m*\u001B[39;49m\u001B[38;5;241;43m*\u001B[39;49m\u001B[43mkwargs\u001B[49m\u001B[43m)\u001B[49m\n",
      "File \u001B[0;32m~/Documents/Projets/ArchEthic/archethic-python-sdk/venv/lib/python3.9/site-packages/Crypto/Cipher/__init__.py:79\u001B[0m, in \u001B[0;36m_create_cipher\u001B[0;34m(factory, key, mode, *args, **kwargs)\u001B[0m\n\u001B[1;32m     76\u001B[0m     \u001B[38;5;28;01melif\u001B[39;00m mode \u001B[38;5;241m==\u001B[39m \u001B[38;5;241m1\u001B[39m:\n\u001B[1;32m     77\u001B[0m         \u001B[38;5;28;01mraise\u001B[39;00m \u001B[38;5;167;01mTypeError\u001B[39;00m(\u001B[38;5;124m\"\u001B[39m\u001B[38;5;124mIV is not meaningful for the ECB mode\u001B[39m\u001B[38;5;124m\"\u001B[39m)\n\u001B[0;32m---> 79\u001B[0m \u001B[38;5;28;01mreturn\u001B[39;00m \u001B[43mmodes\u001B[49m\u001B[43m[\u001B[49m\u001B[43mmode\u001B[49m\u001B[43m]\u001B[49m\u001B[43m(\u001B[49m\u001B[43mfactory\u001B[49m\u001B[43m,\u001B[49m\u001B[43m \u001B[49m\u001B[38;5;241;43m*\u001B[39;49m\u001B[38;5;241;43m*\u001B[39;49m\u001B[43mkwargs\u001B[49m\u001B[43m)\u001B[49m\n",
      "File \u001B[0;32m~/Documents/Projets/ArchEthic/archethic-python-sdk/venv/lib/python3.9/site-packages/Crypto/Cipher/_mode_ecb.py:216\u001B[0m, in \u001B[0;36m_create_ecb_cipher\u001B[0;34m(factory, **kwargs)\u001B[0m\n\u001B[1;32m    205\u001B[0m \u001B[38;5;28;01mdef\u001B[39;00m \u001B[38;5;21m_create_ecb_cipher\u001B[39m(factory, \u001B[38;5;241m*\u001B[39m\u001B[38;5;241m*\u001B[39mkwargs):\n\u001B[1;32m    206\u001B[0m     \u001B[38;5;124;03m\"\"\"Instantiate a cipher object that performs ECB encryption/decryption.\u001B[39;00m\n\u001B[1;32m    207\u001B[0m \n\u001B[1;32m    208\u001B[0m \u001B[38;5;124;03m    :Parameters:\u001B[39;00m\n\u001B[0;32m   (...)\u001B[0m\n\u001B[1;32m    213\u001B[0m \u001B[38;5;124;03m    See the relevant documentation for details (at least ``key`` will need\u001B[39;00m\n\u001B[1;32m    214\u001B[0m \u001B[38;5;124;03m    to be present\"\"\"\u001B[39;00m\n\u001B[0;32m--> 216\u001B[0m     cipher_state \u001B[38;5;241m=\u001B[39m \u001B[43mfactory\u001B[49m\u001B[38;5;241;43m.\u001B[39;49m\u001B[43m_create_base_cipher\u001B[49m\u001B[43m(\u001B[49m\u001B[43mkwargs\u001B[49m\u001B[43m)\u001B[49m\n\u001B[1;32m    217\u001B[0m     cipher_state\u001B[38;5;241m.\u001B[39mblock_size \u001B[38;5;241m=\u001B[39m factory\u001B[38;5;241m.\u001B[39mblock_size\n\u001B[1;32m    218\u001B[0m     \u001B[38;5;28;01mif\u001B[39;00m kwargs:\n",
      "File \u001B[0;32m~/Documents/Projets/ArchEthic/archethic-python-sdk/venv/lib/python3.9/site-packages/Crypto/Cipher/AES.py:93\u001B[0m, in \u001B[0;36m_create_base_cipher\u001B[0;34m(dict_parameters)\u001B[0m\n\u001B[1;32m     90\u001B[0m     \u001B[38;5;28;01mraise\u001B[39;00m \u001B[38;5;167;01mTypeError\u001B[39;00m(\u001B[38;5;124m\"\u001B[39m\u001B[38;5;124mMissing \u001B[39m\u001B[38;5;124m'\u001B[39m\u001B[38;5;124mkey\u001B[39m\u001B[38;5;124m'\u001B[39m\u001B[38;5;124m parameter\u001B[39m\u001B[38;5;124m\"\u001B[39m)\n\u001B[1;32m     92\u001B[0m \u001B[38;5;28;01mif\u001B[39;00m \u001B[38;5;28mlen\u001B[39m(key) \u001B[38;5;129;01mnot\u001B[39;00m \u001B[38;5;129;01min\u001B[39;00m key_size:\n\u001B[0;32m---> 93\u001B[0m     \u001B[38;5;28;01mraise\u001B[39;00m \u001B[38;5;167;01mValueError\u001B[39;00m(\u001B[38;5;124m\"\u001B[39m\u001B[38;5;124mIncorrect AES key length (\u001B[39m\u001B[38;5;132;01m%d\u001B[39;00m\u001B[38;5;124m bytes)\u001B[39m\u001B[38;5;124m\"\u001B[39m \u001B[38;5;241m%\u001B[39m \u001B[38;5;28mlen\u001B[39m(key))\n\u001B[1;32m     95\u001B[0m \u001B[38;5;28;01mif\u001B[39;00m use_aesni \u001B[38;5;129;01mand\u001B[39;00m _raw_aesni_lib:\n\u001B[1;32m     96\u001B[0m     start_operation \u001B[38;5;241m=\u001B[39m _raw_aesni_lib\u001B[38;5;241m.\u001B[39mAESNI_start_operation\n",
      "\u001B[0;31mValueError\u001B[0m: Incorrect AES key length (68 bytes)"
     ]
    }
   ],
   "source": [
    "cipher = AES.new(pb, AES.MODE_GCM)"
   ],
   "metadata": {
    "collapsed": false,
    "pycharm": {
     "name": "#%%\n"
    }
   }
  },
  {
   "cell_type": "code",
   "execution_count": null,
   "outputs": [],
   "source": [],
   "metadata": {
    "collapsed": false,
    "pycharm": {
     "name": "#%%\n"
    }
   }
  },
  {
   "cell_type": "code",
   "execution_count": 44,
   "outputs": [
    {
     "name": "stdout",
     "output_type": "stream",
     "text": [
      "<Crypto.PublicKey.ECC.EccPoint object at 0x113267fd0>\n"
     ]
    }
   ],
   "source": [
    "print(aaa.pointQ)"
   ],
   "metadata": {
    "collapsed": false,
    "pycharm": {
     "name": "#%%\n"
    }
   }
  },
  {
   "cell_type": "code",
   "execution_count": null,
   "outputs": [],
   "source": [],
   "metadata": {
    "collapsed": false,
    "pycharm": {
     "name": "#%%\n"
    }
   }
  }
 ],
 "metadata": {
  "kernelspec": {
   "display_name": "Python 3",
   "language": "python",
   "name": "python3"
  },
  "language_info": {
   "codemirror_mode": {
    "name": "ipython",
    "version": 2
   },
   "file_extension": ".py",
   "mimetype": "text/x-python",
   "name": "python",
   "nbconvert_exporter": "python",
   "pygments_lexer": "ipython2",
   "version": "2.7.6"
  }
 },
 "nbformat": 4,
 "nbformat_minor": 0
}